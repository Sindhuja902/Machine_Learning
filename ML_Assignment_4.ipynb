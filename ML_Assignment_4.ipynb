{
  "nbformat": 4,
  "nbformat_minor": 0,
  "metadata": {
    "colab": {
      "name": "ML Assignment 4.ipynb",
      "provenance": [],
      "collapsed_sections": []
    },
    "kernelspec": {
      "name": "python3",
      "display_name": "Python 3"
    },
    "language_info": {
      "name": "python"
    }
  },
  "cells": [
    {
      "cell_type": "code",
      "execution_count": 2,
      "metadata": {
        "id": "hQp-miQmbQ4a"
      },
      "outputs": [],
      "source": [
        "#Step-1\n",
        "from sklearn.datasets import make_classification\n",
        "data_set = make_classification(n_samples=10000, n_features=20, n_informative=10, n_redundant=2, n_repeated=0, n_classes=2)"
      ]
    },
    {
      "cell_type": "code",
      "source": [
        "data_set"
      ],
      "metadata": {
        "colab": {
          "base_uri": "https://localhost:8080/"
        },
        "id": "seIrVAR-bmA_",
        "outputId": "b3d791fd-24fd-47c9-f33b-2013aefa001b"
      },
      "execution_count": 3,
      "outputs": [
        {
          "output_type": "execute_result",
          "data": {
            "text/plain": [
              "(array([[ 5.60106135,  4.89727919,  0.31129903, ...,  0.30747077,\n",
              "          0.5703885 , -1.58379417],\n",
              "        [-1.27263917, -2.50471916,  1.01919819, ...,  1.17697855,\n",
              "          0.01394869,  3.10053093],\n",
              "        [ 0.48759804, -2.19540298,  0.97933453, ...,  1.16918413,\n",
              "          0.71846281,  0.68028492],\n",
              "        ...,\n",
              "        [-0.56449393,  0.56970075,  0.26144779, ..., -1.22759919,\n",
              "          0.6497699 ,  2.31388283],\n",
              "        [-0.4354978 ,  4.73396776, -0.15308976, ...,  0.59582748,\n",
              "         -1.23768262, -0.89767465],\n",
              "        [ 0.39978934,  1.11432727,  1.5257167 , ..., -4.00700833,\n",
              "         -1.82980621,  0.95694615]]), array([0, 1, 1, ..., 1, 0, 1]))"
            ]
          },
          "metadata": {},
          "execution_count": 3
        }
      ]
    },
    {
      "cell_type": "code",
      "source": [
        "#Step-2\n",
        "from sklearn.neural_network import MLPClassifier"
      ],
      "metadata": {
        "id": "j_49uj-ybwWb"
      },
      "execution_count": 4,
      "outputs": []
    },
    {
      "cell_type": "code",
      "source": [
        "import numpy as np\n",
        "from sklearn.model_selection import KFold"
      ],
      "metadata": {
        "id": "nRZEi5SNb91J"
      },
      "execution_count": 5,
      "outputs": []
    },
    {
      "cell_type": "code",
      "source": [
        "X = data_set[0]\n",
        "y = data_set[1]\n",
        "print(X)\n",
        "print(y)"
      ],
      "metadata": {
        "colab": {
          "base_uri": "https://localhost:8080/"
        },
        "id": "dL5NID7jb_D7",
        "outputId": "ed1a0c81-cdb0-4373-c805-12f6ed8e2726"
      },
      "execution_count": 6,
      "outputs": [
        {
          "output_type": "stream",
          "name": "stdout",
          "text": [
            "[[ 5.60106135  4.89727919  0.31129903 ...  0.30747077  0.5703885\n",
            "  -1.58379417]\n",
            " [-1.27263917 -2.50471916  1.01919819 ...  1.17697855  0.01394869\n",
            "   3.10053093]\n",
            " [ 0.48759804 -2.19540298  0.97933453 ...  1.16918413  0.71846281\n",
            "   0.68028492]\n",
            " ...\n",
            " [-0.56449393  0.56970075  0.26144779 ... -1.22759919  0.6497699\n",
            "   2.31388283]\n",
            " [-0.4354978   4.73396776 -0.15308976 ...  0.59582748 -1.23768262\n",
            "  -0.89767465]\n",
            " [ 0.39978934  1.11432727  1.5257167  ... -4.00700833 -1.82980621\n",
            "   0.95694615]]\n",
            "[0 1 1 ... 1 0 1]\n"
          ]
        }
      ]
    },
    {
      "cell_type": "code",
      "source": [
        "from sklearn.model_selection import cross_val_score\n",
        "l = [(5,),(5,5,),(5,10,),(10,),(10,5,),(10,10,)]\n",
        "for fun in ['logistic']:\n",
        "    for layers in l:\n",
        "        mlp=MLPClassifier(hidden_layer_sizes=layers,activation=fun,max_iter=3000)\n",
        "        mlp.fit(X,y)\n",
        "        scores=cross_val_score(mlp, X, y, cv=5)\n",
        "        print(\"Activation Function :\",fun,\"Layer Shape :\",str(layers),\"Cross Validation Score :\",round(np.average(scores),3))"
      ],
      "metadata": {
        "colab": {
          "base_uri": "https://localhost:8080/"
        },
        "id": "4PQaKywVcGc-",
        "outputId": "27024db3-f6e2-4bac-f0ca-7e0ed19f625c"
      },
      "execution_count": 7,
      "outputs": [
        {
          "output_type": "stream",
          "name": "stdout",
          "text": [
            "Activation Function : logistic Layer Shape : (5,) Cross Validation Score : 0.985\n",
            "Activation Function : logistic Layer Shape : (5, 5) Cross Validation Score : 0.987\n",
            "Activation Function : logistic Layer Shape : (5, 10) Cross Validation Score : 0.988\n",
            "Activation Function : logistic Layer Shape : (10,) Cross Validation Score : 0.985\n",
            "Activation Function : logistic Layer Shape : (10, 5) Cross Validation Score : 0.989\n",
            "Activation Function : logistic Layer Shape : (10, 10) Cross Validation Score : 0.99\n"
          ]
        }
      ]
    },
    {
      "cell_type": "markdown",
      "source": [
        "Here we could see better score for NN of shape (10,). Hence we are holding this network shape"
      ],
      "metadata": {
        "id": "104kbif5cO60"
      }
    },
    {
      "cell_type": "code",
      "source": [
        "#step3\n",
        "data_set1 = make_classification(n_samples=10000, n_features=20, n_informative=5, n_redundant=2, n_repeated=0, n_classes=2)\n",
        "X = data_set1[0]\n",
        "y = data_set1[1]\n",
        "for fun in ['logistic']:\n",
        "    for layers in [(10,)]:\n",
        "        mlp=MLPClassifier(hidden_layer_sizes=layers,activation=fun,max_iter=3000)\n",
        "        mlp.fit(X,y)\n",
        "        scores=cross_val_score(mlp, X, y, cv=5)\n",
        "        print(\"Activation Function :\",fun,\"Layer Shape :\",str(layers),\"Cross Validation Score :\",round(np.average(scores),3))"
      ],
      "metadata": {
        "colab": {
          "base_uri": "https://localhost:8080/"
        },
        "id": "Q95nBnMzcTRP",
        "outputId": "0533f96d-ced1-4560-a444-d421b87b946b"
      },
      "execution_count": 10,
      "outputs": [
        {
          "output_type": "stream",
          "name": "stdout",
          "text": [
            "Activation Function : logistic Layer Shape : (10,) Cross Validation Score : 0.945\n"
          ]
        }
      ]
    },
    {
      "cell_type": "markdown",
      "source": [
        "Cross Val Score has been slightly reduced to 94.5% when n_informative is reduced from 10 to 5"
      ],
      "metadata": {
        "id": "k6SmVl25daKQ"
      }
    },
    {
      "cell_type": "code",
      "source": [
        "data_set2 = make_classification(n_samples=10000, n_features=20, n_informative=3, n_redundant=2, n_repeated=0, n_classes=2)\n",
        "X = data_set2[0]\n",
        "y = data_set2[1]\n",
        "for fun in ['logistic']:\n",
        "    for layers in [(10,)]:\n",
        "        mlp=MLPClassifier(hidden_layer_sizes=layers,activation=fun,max_iter=3000)\n",
        "        mlp.fit(X,y)\n",
        "        scores=cross_val_score(mlp, X, y, cv=5)\n",
        "        print(\"Activation Function :\",fun,\"Layer Shape :\",str(layers),\"Cross Validation Score :\",round(np.average(scores),3))"
      ],
      "metadata": {
        "colab": {
          "base_uri": "https://localhost:8080/"
        },
        "id": "4KTw1l5AdpeF",
        "outputId": "4a1d8f59-ce73-4cf5-e12c-c8b4632152c2"
      },
      "execution_count": 9,
      "outputs": [
        {
          "output_type": "stream",
          "name": "stdout",
          "text": [
            "Activation Function : logistic Layer Shape : (10,) Cross Validation Score : 0.943\n"
          ]
        }
      ]
    },
    {
      "cell_type": "markdown",
      "source": [
        "Cross Val Score has been slightly reduced to 94.3% when n_informative is reduced from 10 to 3"
      ],
      "metadata": {
        "id": "RWt9qAcNdxLg"
      }
    }
  ]
}