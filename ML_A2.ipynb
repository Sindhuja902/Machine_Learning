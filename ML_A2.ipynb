{
 "cells": [
  {
   "cell_type": "code",
   "execution_count": 3,
   "id": "b81c6f39",
   "metadata": {},
   "outputs": [],
   "source": [
    "from __future__ import print_function\n",
    "from sklearn.model_selection import train_test_split\n",
    "from sklearn.neighbors import KNeighborsClassifier\n",
    "from sklearn.metrics import confusion_matrix\n",
    "from sklearn.metrics import classification_report\n",
    "from sklearn import datasets\n",
    "from skimage import exposure\n",
    "import numpy as np\n",
    "import matplotlib.pyplot as plt\n"
   ]
  },
  {
   "cell_type": "code",
   "execution_count": 4,
   "id": "753ae578",
   "metadata": {},
   "outputs": [],
   "source": [
    "digits = datasets.load_digits()"
   ]
  },
  {
   "cell_type": "code",
   "execution_count": 8,
   "id": "5a7ddc8c",
   "metadata": {},
   "outputs": [
    {
     "ename": "NameError",
     "evalue": "name 'digits' is not defined",
     "output_type": "error",
     "traceback": [
      "\u001b[1;31m---------------------------------------------------------------------------\u001b[0m",
      "\u001b[1;31mNameError\u001b[0m                                 Traceback (most recent call last)",
      "\u001b[1;32m~\\AppData\\Local\\Temp/ipykernel_8816/1112206792.py\u001b[0m in \u001b[0;36m<module>\u001b[1;34m\u001b[0m\n\u001b[1;32m----> 1\u001b[1;33m (trainData, testData, trainLabels, testLabels) = train_test_split(np.array(digits.data),\n\u001b[0m\u001b[0;32m      2\u001b[0m digits.target, test_size=0.30, random_state=42)\n\u001b[0;32m      3\u001b[0m \u001b[1;33m\u001b[0m\u001b[0m\n\u001b[0;32m      4\u001b[0m (trainData, devset, trainLabels, devLabels) = train_test_split(trainData, trainLabels,\n\u001b[0;32m      5\u001b[0m test_size=0.15, random_state=84)\n",
      "\u001b[1;31mNameError\u001b[0m: name 'digits' is not defined"
     ]
    }
   ],
   "source": [
    "(trainData, testData, trainLabels, testLabels) = train_test_split(np.array(digits.data),\n",
    "digits.target, test_size=0.30, random_state=42)\n",
    "\n",
    "(trainData, devset, trainLabels, devLabels) = train_test_split(trainData, trainLabels,\n",
    "test_size=0.15, random_state=84)\n",
    "\n",
    "print(\"training data points: {}\".format(len(trainLabels)))\n",
    "print(\"validation data points: {}\".format(len(devLabels)))\n",
    "print(\"testing data points: {}\".format(len(testLabels)))\n"
   ]
  },
  {
   "cell_type": "code",
   "execution_count": 6,
   "id": "2ea40df7",
   "metadata": {},
   "outputs": [
    {
     "name": "stdout",
     "output_type": "stream",
     "text": [
      "k=1, accuracy=97.35%\n",
      "k=1 achieved highest accuracy of 97.35% on validation data\n",
      "k=3, accuracy=96.83%\n",
      "k=1 achieved highest accuracy of 97.35% on validation data\n",
      "k=5, accuracy=98.41%\n",
      "k=5 achieved highest accuracy of 98.41% on validation data\n",
      "k=7, accuracy=97.88%\n",
      "k=5 achieved highest accuracy of 98.41% on validation data\n",
      "k=9, accuracy=97.35%\n",
      "k=5 achieved highest accuracy of 98.41% on validation data\n",
      "k=11, accuracy=96.83%\n",
      "k=5 achieved highest accuracy of 98.41% on validation data\n",
      "k=13, accuracy=96.83%\n",
      "k=5 achieved highest accuracy of 98.41% on validation data\n",
      "k=15, accuracy=96.83%\n",
      "k=5 achieved highest accuracy of 98.41% on validation data\n",
      "k=17, accuracy=96.30%\n",
      "k=5 achieved highest accuracy of 98.41% on validation data\n",
      "k=19, accuracy=95.77%\n",
      "k=5 achieved highest accuracy of 98.41% on validation data\n",
      "k=21, accuracy=95.77%\n",
      "k=5 achieved highest accuracy of 98.41% on validation data\n",
      "k=23, accuracy=95.24%\n",
      "k=5 achieved highest accuracy of 98.41% on validation data\n",
      "k=25, accuracy=94.71%\n",
      "k=5 achieved highest accuracy of 98.41% on validation data\n",
      "k=27, accuracy=94.71%\n",
      "k=5 achieved highest accuracy of 98.41% on validation data\n",
      "k=29, accuracy=95.77%\n",
      "k=5 achieved highest accuracy of 98.41% on validation data\n",
      "EVALUATION ON TESTING DATA\n",
      "              precision    recall  f1-score   support\n",
      "\n",
      "           0       1.00      1.00      1.00        53\n",
      "           1       0.96      1.00      0.98        50\n",
      "           2       1.00      1.00      1.00        47\n",
      "           3       0.98      1.00      0.99        54\n",
      "           4       0.98      1.00      0.99        60\n",
      "           5       0.98      0.98      0.98        66\n",
      "           6       1.00      1.00      1.00        53\n",
      "           7       1.00      1.00      1.00        55\n",
      "           8       1.00      0.93      0.96        43\n",
      "           9       0.97      0.95      0.96        59\n",
      "\n",
      "    accuracy                           0.99       540\n",
      "   macro avg       0.99      0.99      0.99       540\n",
      "weighted avg       0.99      0.99      0.99       540\n",
      "\n",
      "Confusion matrix\n",
      "[[53  0  0  0  0  0  0  0  0  0]\n",
      " [ 0 50  0  0  0  0  0  0  0  0]\n",
      " [ 0  0 47  0  0  0  0  0  0  0]\n",
      " [ 0  0  0 54  0  0  0  0  0  0]\n",
      " [ 0  0  0  0 60  0  0  0  0  0]\n",
      " [ 0  0  0  0  0 65  0  0  0  1]\n",
      " [ 0  0  0  0  0  0 53  0  0  0]\n",
      " [ 0  0  0  0  0  0  0 55  0  0]\n",
      " [ 0  2  0  0  0  0  0  0 40  1]\n",
      " [ 0  0  0  1  1  1  0  0  0 56]]\n"
     ]
    }
   ],
   "source": [
    "kVals = range(1, 30, 2)\n",
    "accuracies = []\n",
    "for k in range(1, 30, 2):\n",
    "    model = KNeighborsClassifier(n_neighbors=k)\n",
    "    model.fit(trainData, trainLabels)\n",
    "    score = model.score(devset, devLabels)\n",
    "    print(\"k=%d, accuracy=%.2f%%\" % (k, score * 100))\n",
    "    accuracies.append(score)\n",
    "    i = np.argmax(accuracies)\n",
    "    print(\"k=%d achieved highest accuracy of %.2f%% on validation data\" % (kVals[i],accuracies[i] * 100))\n",
    "    model = KNeighborsClassifier(n_neighbors=kVals[i])\n",
    "    model.fit(trainData, trainLabels)\n",
    "    predictions = model.predict(testData)\n",
    "print(\"EVALUATION ON TESTING DATA\")\n",
    "print(classification_report(testLabels, predictions))\n",
    "\n",
    "\n",
    "print (\"Confusion matrix\")\n",
    "\n",
    "print(confusion_matrix(testLabels,predictions))\n",
    "\n"
   ]
  },
  {
   "cell_type": "code",
   "execution_count": 10,
   "id": "3ba0df1b",
   "metadata": {},
   "outputs": [
    {
     "name": "stdout",
     "output_type": "stream",
     "text": [
      "The digit is : 7\n"
     ]
    },
    {
     "data": {
      "image/png": "[encoded data removed]",
      "text/plain": [
       "<Figure size 432x288 with 1 Axes>"
      ]
     },
     "metadata": {
      "needs_background": "light"
     },
     "output_type": "display_data"
    },
    {
     "name": "stdout",
     "output_type": "stream",
     "text": [
      "The digit is : 9\n"
     ]
    },
    {
     "data": {
      "image/png": "[encoded data removed]",
      "text/plain": [
       "<Figure size 432x288 with 1 Axes>"
      ]
     },
     "metadata": {
      "needs_background": "light"
     },
     "output_type": "display_data"
    },
    {
     "name": "stdout",
     "output_type": "stream",
     "text": [
      "The digit is : 4\n"
     ]
    },
    {
     "data": {
      "image/png": "[encoded data removed]",
      "text/plain": [
       "<Figure size 432x288 with 1 Axes>"
      ]
     },
     "metadata": {
      "needs_background": "light"
     },
     "output_type": "display_data"
    }
   ],
   "source": [
    "for i in np.random.randint(0, high=len(testLabels), size=(3,)):\n",
    "    image = testData[i]\n",
    "    prediction = model.predict([image])[0]\n",
    "    imgdata = np.array(image, dtype='float')\n",
    "    pixels = imgdata.reshape((8,8))\n",
    "    plt.imshow(pixels,cmap='gray')\n",
    "    plt.annotate(prediction,(3,3),bbox={'facecolor':'white'},fontsize=16)\n",
    "    print(\"The digit is : {}\".format(prediction))\n",
    "    plt.show()\n"
   ]
  },
  {
   "cell_type": "code",
   "execution_count": null,
   "id": "d21e6d6b",
   "metadata": {},
   "outputs": [],
   "source": []
  }
 ],
 "metadata": {
  "kernelspec": {
   "display_name": "Python 3 (ipykernel)",
   "language": "python",
   "name": "python3"
  },
  "language_info": {
   "codemirror_mode": {
    "name": "ipython",
    "version": 3
   },
   "file_extension": ".py",
   "mimetype": "text/x-python",
   "name": "python",
   "nbconvert_exporter": "python",
   "pygments_lexer": "ipython3",
   "version": "3.9.7"
  }
 },
 "nbformat": 4,
 "nbformat_minor": 5
}
