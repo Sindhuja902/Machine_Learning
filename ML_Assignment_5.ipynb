{
  "cells": [
    {
      "cell_type": "code",
      "execution_count": 1,
      "id": "352493b9",
      "metadata": {
        "id": "352493b9"
      },
      "outputs": [],
      "source": [
        "#1 Importing necessary dependancies\n",
        "from sklearn.datasets import load_iris\n",
        "from sklearn.ensemble import BaggingClassifier,AdaBoostClassifier\n",
        "from sklearn.tree import DecisionTreeClassifier\n",
        "from sklearn.model_selection import cross_val_score,train_test_split\n",
        "from sklearn.metrics import accuracy_score"
      ]
    },
    {
      "cell_type": "code",
      "execution_count": 3,
      "id": "c0a09804",
      "metadata": {
        "id": "c0a09804"
      },
      "outputs": [],
      "source": [
        "#2 Creating Bagging and Boosting models using Decision Tree Base model\n",
        "dataset_2=load_iris()\n",
        "model_bagging = BaggingClassifier(DecisionTreeClassifier(max_depth=1))\n",
        "model_boosting = AdaBoostClassifier(DecisionTreeClassifier(max_depth=1))"
      ]
    },
    {
      "cell_type": "code",
      "execution_count": 4,
      "id": "3226c2a3",
      "metadata": {
        "colab": {
          "base_uri": "https://localhost:8080/"
        },
        "id": "3226c2a3",
        "outputId": "fc21c438-887b-4e11-c124-e4c9f32c112b"
      },
      "outputs": [
        {
          "output_type": "execute_result",
          "data": {
            "text/plain": [
              "AdaBoostClassifier(base_estimator=DecisionTreeClassifier(max_depth=1))"
            ]
          },
          "metadata": {},
          "execution_count": 4
        }
      ],
      "source": [
        "model_bagging.fit(dataset_2['data'],dataset_2['target'])\n",
        "model_boosting.fit(dataset_2['data'],dataset_2['target'])"
      ]
    },
    {
      "cell_type": "code",
      "execution_count": 5,
      "id": "4746237c",
      "metadata": {
        "colab": {
          "base_uri": "https://localhost:8080/"
        },
        "id": "4746237c",
        "outputId": "4f7ea869-841d-4798-a05b-de07e698a537"
      },
      "outputs": [
        {
          "output_type": "stream",
          "name": "stdout",
          "text": [
            "Bagging Accuracy : 0.6666666666666666\n",
            "Boosting Accuracy : 0.6666666666666666\n"
          ]
        }
      ],
      "source": [
        "bagging_score=accuracy_score(model_bagging.predict(dataset_2['data']),dataset_2['target'])\n",
        "boosting_score=accuracy_score(model_bagging.predict(dataset_2['data']),dataset_2['target'])\n",
        "print(\"Bagging Accuracy :\",bagging_score)\n",
        "print(\"Boosting Accuracy :\",boosting_score)"
      ]
    },
    {
      "cell_type": "markdown",
      "id": "857c02fe",
      "metadata": {
        "id": "857c02fe"
      },
      "source": [
        "Both ensemble methods has same accuracy"
      ]
    },
    {
      "cell_type": "code",
      "execution_count": 10,
      "id": "27f59233",
      "metadata": {
        "colab": {
          "base_uri": "https://localhost:8080/"
        },
        "id": "27f59233",
        "outputId": "0b915d4c-f69b-4b8a-ca5f-66d16e33c509"
      },
      "outputs": [
        {
          "output_type": "stream",
          "name": "stdout",
          "text": [
            "Bagging Classifier Accuracy-->  0.63  No of Estimators -->  1  Crocss Val Accuracy -->   0.63\n",
            "Bagging Classifier Accuracy-->  0.93  No of Estimators -->  2  Crocss Val Accuracy -->   0.67\n",
            "Bagging Classifier Accuracy-->  0.63  No of Estimators -->  3  Crocss Val Accuracy -->   0.8\n",
            "Bagging Classifier Accuracy-->  0.73  No of Estimators -->  4  Crocss Val Accuracy -->   0.8\n",
            "Bagging Classifier Accuracy-->  0.93  No of Estimators -->  5  Crocss Val Accuracy -->   0.87\n",
            "Bagging Classifier Accuracy-->  0.93  No of Estimators -->  6  Crocss Val Accuracy -->   0.83\n",
            "Bagging Classifier Accuracy-->  0.93  No of Estimators -->  7  Crocss Val Accuracy -->   0.73\n",
            "Bagging Classifier Accuracy-->  0.97  No of Estimators -->  8  Crocss Val Accuracy -->   0.83\n",
            "Bagging Classifier Accuracy-->  0.97  No of Estimators -->  9  Crocss Val Accuracy -->   0.9\n"
          ]
        }
      ],
      "source": [
        "# Bagging \n",
        "from statistics import mean\n",
        "for z in range(1,10):\n",
        "    model_bagging = BaggingClassifier(DecisionTreeClassifier(max_depth=1),n_estimators=z)\n",
        "    dataset_2=load_iris()\n",
        "    train_x,test_x,train_y,test_y=train_test_split(dataset_2['data'],dataset_2['target'],random_state=102,test_size=0.20)\n",
        "    model_bagging.fit(train_x,train_y)\n",
        "    accuracy=accuracy_score(model_bagging.predict(test_x),test_y)\n",
        "    accuracy=round(accuracy,2)\n",
        "    score=cross_val_score(model_bagging,test_x,test_y,cv=5,scoring='accuracy')\n",
        "    score=round(mean(score),2)\n",
        "    print(\"Bagging Classifier Accuracy--> \",accuracy,\" No of Estimators --> \",z,\" Crocss Val Accuracy -->  \",score)"
      ]
    },
    {
      "cell_type": "markdown",
      "id": "ccb8e2b5",
      "metadata": {
        "id": "ccb8e2b5"
      },
      "source": [
        "Bagging Accuracy is becoming stable at a value between .79 and .82"
      ]
    },
    {
      "cell_type": "code",
      "execution_count": 11,
      "id": "4f553dac",
      "metadata": {
        "colab": {
          "base_uri": "https://localhost:8080/"
        },
        "id": "4f553dac",
        "outputId": "fb9a39dd-d13d-4d23-8af8-512b7523859c"
      },
      "outputs": [
        {
          "output_type": "stream",
          "name": "stdout",
          "text": [
            "Boosting Classifier Accuracy-->  0.97 No of Estimators -->  1  Accuracy -->   0.73\n",
            "Boosting Classifier Accuracy-->  0.97 No of Estimators -->  2  Accuracy -->   0.9\n",
            "Boosting Classifier Accuracy-->  0.97 No of Estimators -->  3  Accuracy -->   0.9\n",
            "Boosting Classifier Accuracy-->  0.97 No of Estimators -->  4  Accuracy -->   0.9\n",
            "Boosting Classifier Accuracy-->  0.97 No of Estimators -->  5  Accuracy -->   0.9\n",
            "Boosting Classifier Accuracy-->  0.97 No of Estimators -->  6  Accuracy -->   0.87\n",
            "Boosting Classifier Accuracy-->  0.97 No of Estimators -->  7  Accuracy -->   0.9\n",
            "Boosting Classifier Accuracy-->  0.97 No of Estimators -->  8  Accuracy -->   0.9\n",
            "Boosting Classifier Accuracy-->  0.97 No of Estimators -->  9  Accuracy -->   0.9\n"
          ]
        }
      ],
      "source": [
        "#Boosting\n",
        "for z in range(1,10):\n",
        "    model_boosting = AdaBoostClassifier(DecisionTreeClassifier(max_depth=1), n_estimators=z)\n",
        "    dataset_2=load_iris()\n",
        "    train_x,test_x,train_y,test_y=train_test_split(dataset_2['data'],dataset_2['target'],random_state=102,test_size=0.20)\n",
        "    model_boosting.fit(train_x,train_y)\n",
        "    score=cross_val_score(model_boosting,test_x,test_y,cv=5,scoring='accuracy')\n",
        "    score=round(mean(score),2)\n",
        "    accuracy=accuracy_score(model_bagging.predict(test_x),test_y)\n",
        "    accuracy=round(accuracy,2)\n",
        "    print(\"Boosting Classifier Accuracy--> \",accuracy,\"No of Estimators --> \",z,\" Accuracy -->  \",score)"
      ]
    },
    {
      "cell_type": "markdown",
      "id": "0cca0f62",
      "metadata": {
        "id": "0cca0f62"
      },
      "source": [
        "Boosting accuracy is same when we increase the no of estimators but K Fold is varying"
      ]
    }
  ],
  "metadata": {
    "kernelspec": {
      "display_name": "Python 3 (ipykernel)",
      "language": "python",
      "name": "python3"
    },
    "language_info": {
      "codemirror_mode": {
        "name": "ipython",
        "version": 3
      },
      "file_extension": ".py",
      "mimetype": "text/x-python",
      "name": "python",
      "nbconvert_exporter": "python",
      "pygments_lexer": "ipython3",
      "version": "3.9.7"
    },
    "colab": {
      "name": "Ensemble-5.ipynb",
      "provenance": []
    }
  },
  "nbformat": 4,
  "nbformat_minor": 5
}